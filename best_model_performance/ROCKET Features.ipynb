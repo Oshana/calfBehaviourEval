{
 "cells": [
  {
   "cell_type": "code",
   "execution_count": null,
   "id": "2cd44111",
   "metadata": {},
   "outputs": [],
   "source": [
    "import sys\n",
    "import os\n",
    "sys.path.append('..')"
   ]
  },
  {
   "cell_type": "code",
   "execution_count": null,
   "id": "0147a51a",
   "metadata": {},
   "outputs": [],
   "source": [
    "import pickle\n",
    "import numpy as np\n",
    "import time\n",
    "from libraries.functions import combine_feature_data\n",
    "from libraries.data_separation import separate_data\n",
    "from libraries.evaluation import evaluate_model"
   ]
  },
  {
   "cell_type": "code",
   "execution_count": null,
   "id": "ab758278",
   "metadata": {},
   "outputs": [],
   "source": [
    "from sklearn.preprocessing import LabelEncoder\n",
    "from xgboost import XGBClassifier\n",
    "from sklearn.ensemble import RandomForestClassifier\n",
    "from sklearn.linear_model import RidgeClassifierCV"
   ]
  },
  {
   "cell_type": "markdown",
   "id": "414ff1c2",
   "metadata": {},
   "source": [
    "# File Paths"
   ]
  },
  {
   "cell_type": "code",
   "execution_count": null,
   "id": "d56cf6ed",
   "metadata": {},
   "outputs": [],
   "source": [
    "ROCKET_windowed_feature_dataset_path = '../dataset/feature_datasets/ROCKET_feature_data_6_behaviours.pkl'\n",
    "train_validation_test_split_information_data_path = '../dataset/information_datasets/train_validation_test_set_info_6_labels.pkl'\n",
    "\n",
    "# GridSearch Outcomes load paths\n",
    "xgb_gs_outcomes_load_path = '../hyperparameter_optimization/results/ROCKET/rocket_xgb_gs_outcomes.pkl'\n",
    "rf_gs_outcomes_load_path = '../hyperparameter_optimization/results/ROCKET/rocket_rf_gs_outcomes.pkl'\n",
    "rcv_gs_outcomes_load_path = '../hyperparameter_optimization/results/ROCKET/rocket_rcv_gs_outcomes.pkl'\n",
    "\n",
    "# Evaluation results save paths\n",
    "xgb_test_results_save_path = './results/ROCKET/rocket_xgb_test_results.pkl'\n",
    "rf_test_results_save_path = './results/ROCKET/rocket_rf_test_results.pkl'\n",
    "rcv_test_results_save_path = './results/ROCKET/rocket_rcv_test_results.pkl'"
   ]
  },
  {
   "cell_type": "markdown",
   "id": "6ce605ac",
   "metadata": {},
   "source": [
    "# Importing Feature Data"
   ]
  },
  {
   "cell_type": "code",
   "execution_count": null,
   "id": "d6c5df24",
   "metadata": {},
   "outputs": [],
   "source": [
    "with open(ROCKET_windowed_feature_dataset_path, 'rb') as f:\n",
    "    feature_data = pickle.load(f)"
   ]
  },
  {
   "cell_type": "markdown",
   "id": "48ed5dd0",
   "metadata": {},
   "source": [
    "# Getting Train / Test Data"
   ]
  },
  {
   "cell_type": "code",
   "execution_count": null,
   "id": "7668be79",
   "metadata": {},
   "outputs": [],
   "source": [
    "with open(train_validation_test_split_information_data_path, 'rb') as f:\n",
    "    calf_split_info = pickle.load(f)"
   ]
  },
  {
   "cell_type": "code",
   "execution_count": null,
   "id": "ec6855c9",
   "metadata": {},
   "outputs": [],
   "source": [
    "# Validation index sets won't be used\n",
    "X_train, y_train, X_test, y_test, train_index_sets, vaildation_index_sets = separate_data(calf_split_info, \n",
    "                                                                                         feature_data)"
   ]
  },
  {
   "cell_type": "markdown",
   "id": "fd046fc0",
   "metadata": {},
   "source": [
    "# Best XGB Model Testing"
   ]
  },
  {
   "cell_type": "markdown",
   "id": "67f65706",
   "metadata": {},
   "source": [
    "## Improting GridSearch Results"
   ]
  },
  {
   "cell_type": "code",
   "execution_count": null,
   "id": "0afe3a1c",
   "metadata": {},
   "outputs": [],
   "source": [
    "with open(xgb_gs_outcomes_load_path, 'rb') as f:\n",
    "    xgb_gs_outcomes = pickle.load(f)"
   ]
  },
  {
   "cell_type": "markdown",
   "id": "036ca85a",
   "metadata": {},
   "source": [
    "## Model Testing"
   ]
  },
  {
   "cell_type": "code",
   "execution_count": null,
   "id": "6840e222",
   "metadata": {},
   "outputs": [],
   "source": [
    "# best performing model\n",
    "best_xgb_params = xgb_gs_outcomes['best_params']\n",
    "\n",
    "# model training\n",
    "train_start_time = time.time()\n",
    "\n",
    "# label encoding for XGB\n",
    "label_encoder = LabelEncoder()\n",
    "y_train_encoded = label_encoder.fit_transform(y_train)\n",
    "\n",
    "best_xgbClassifier = XGBClassifier(**best_xgb_params)\n",
    "best_xgbClassifier.fit(X_train, y_train_encoded)\n",
    "\n",
    "train_stop_time = time.time()\n",
    "\n",
    "# model testing\n",
    "test_start_time = time.time()\n",
    "\n",
    "xgb_y_pred = best_xgbClassifier.predict(X_test)\n",
    "\n",
    "test_stop_time = time.time()\n",
    "\n",
    "# decode the y_pred to evaluate\n",
    "xgb_y_pred_decoded = label_encoder.inverse_transform(xgb_y_pred)\n",
    "\n",
    "# evaluate the test data\n",
    "xgb_eval_results = evaluate_model(y_test, xgb_y_pred_decoded)\n",
    "\n",
    "# time durations\n",
    "train_time_seconds = train_stop_time - train_start_time\n",
    "test_time_seconds = test_stop_time - test_start_time\n",
    "\n",
    "time_results = {\n",
    "    'train_time' : train_time_seconds,\n",
    "    'test_time' : test_time_seconds\n",
    "}\n",
    "\n",
    "# save data\n",
    "xgb_results = {\n",
    "    'test_results': xgb_eval_results,\n",
    "    'time_results': time_results\n",
    "}\n",
    "\n",
    "xgb_directory = os.path.dirname(xgb_test_results_save_path)\n",
    "\n",
    "# Check if the directory exists, and if not, create it\n",
    "if not os.path.exists(xgb_directory):\n",
    "    os.makedirs(xgb_directory)\n",
    "\n",
    "with open(xgb_test_results_save_path, 'wb') as f:\n",
    "    pickle.dump(xgb_results, f)"
   ]
  },
  {
   "cell_type": "markdown",
   "id": "c595b310",
   "metadata": {},
   "source": [
    "# Best RandomForest Model Testing"
   ]
  },
  {
   "cell_type": "markdown",
   "id": "4566645b",
   "metadata": {},
   "source": [
    "## Importing GridSearch Results"
   ]
  },
  {
   "cell_type": "code",
   "execution_count": null,
   "id": "079c0672",
   "metadata": {},
   "outputs": [],
   "source": [
    "with open(rf_gs_outcomes_load_path, 'rb') as f:\n",
    "    rf_gs_outcomes = pickle.load(f)"
   ]
  },
  {
   "cell_type": "markdown",
   "id": "6ae23ca1",
   "metadata": {},
   "source": [
    "## Model Testing"
   ]
  },
  {
   "cell_type": "code",
   "execution_count": null,
   "id": "f40b24ee",
   "metadata": {},
   "outputs": [],
   "source": [
    "# best performing model\n",
    "best_rf_params = rf_gs_outcomes['best_params']\n",
    "\n",
    "# model training\n",
    "train_start_time = time.time()\n",
    "\n",
    "best_rfClassifier = RandomForestClassifier(**best_rf_params)\n",
    "best_rfClassifier.fit(X_train, y_train)\n",
    "\n",
    "train_stop_time = time.time()\n",
    "\n",
    "# model testing\n",
    "test_start_time = time.time()\n",
    "\n",
    "rf_y_pred = best_rfClassifier.predict(X_test)\n",
    "\n",
    "test_stop_time = time.time()\n",
    "\n",
    "# evaluate the test data\n",
    "rf_eval_results = evaluate_model(y_test, rf_y_pred)\n",
    "\n",
    "# time durations\n",
    "train_time_seconds = train_stop_time - train_start_time\n",
    "test_time_seconds = test_stop_time - test_start_time\n",
    "\n",
    "time_results = {\n",
    "    'train_time' : train_time_seconds,\n",
    "    'test_time' : test_time_seconds\n",
    "}\n",
    "\n",
    "# save data\n",
    "rf_results = {\n",
    "    'test_results': rf_eval_results,\n",
    "    'time_results': time_results\n",
    "}\n",
    "\n",
    "rf_directory = os.path.dirname(rf_test_results_save_path)\n",
    "\n",
    "# Check if the directory exists, and if not, create it\n",
    "if not os.path.exists(rf_directory):\n",
    "    os.makedirs(rf_directory)\n",
    "\n",
    "with open(rf_test_results_save_path, 'wb') as f:\n",
    "    pickle.dump(rf_results, f)"
   ]
  },
  {
   "cell_type": "markdown",
   "id": "6d5caf41",
   "metadata": {},
   "source": [
    "# Best RidgeClassifierCV Model Testing"
   ]
  },
  {
   "cell_type": "markdown",
   "id": "c99ff44e",
   "metadata": {},
   "source": [
    "## Importing GridSearch results"
   ]
  },
  {
   "cell_type": "code",
   "execution_count": null,
   "id": "e1c98fef",
   "metadata": {},
   "outputs": [],
   "source": [
    "with open(rcv_gs_outcomes_load_path, 'rb') as f:\n",
    "    rcv_gs_outcomes = pickle.load(f)"
   ]
  },
  {
   "cell_type": "markdown",
   "id": "de5ca045",
   "metadata": {},
   "source": [
    "## Model Testing"
   ]
  },
  {
   "cell_type": "code",
   "execution_count": null,
   "id": "4ec37b8c",
   "metadata": {},
   "outputs": [],
   "source": [
    "# best performing model\n",
    "best_rcv_params = rcv_gs_outcomes['best_params']\n",
    "\n",
    "# model training\n",
    "train_start_time = time.time()\n",
    "\n",
    "best_ridgeclassifiercv = RidgeClassifierCV(**best_rcv_params)\n",
    "best_ridgeclassifiercv.fit(X_train, y_train)\n",
    "\n",
    "train_stop_time = time.time()\n",
    "\n",
    "# model testing\n",
    "test_start_time = time.time()\n",
    "\n",
    "rcv_y_pred = best_ridgeclassifiercv.predict(X_test)\n",
    "\n",
    "test_stop_time = time.time()\n",
    "\n",
    "# evaluate the test data\n",
    "rcv_eval_results = evaluate_model(y_test, rcv_y_pred)\n",
    "\n",
    "# time durations\n",
    "train_time_seconds = train_stop_time - train_start_time\n",
    "test_time_seconds = test_stop_time - test_start_time\n",
    "\n",
    "time_results = {\n",
    "    'train_time' : train_time_seconds,\n",
    "    'test_time' : test_time_seconds\n",
    "}\n",
    "\n",
    "# save data\n",
    "rcv_results = {\n",
    "    'test_results': rcv_eval_results,\n",
    "    'time_results': time_results\n",
    "}\n",
    "\n",
    "rcv_directory = os.path.dirname(rcv_test_results_save_path)\n",
    "\n",
    "# Check if the directory exists, and if not, create it\n",
    "if not os.path.exists(rcv_directory):\n",
    "    os.makedirs(rcv_directory)\n",
    "\n",
    "with open(rcv_test_results_save_path, 'wb') as f:\n",
    "    pickle.dump(rcv_results, f)"
   ]
  }
 ],
 "metadata": {
  "kernelspec": {
   "display_name": "py39",
   "language": "python",
   "name": "py39"
  },
  "language_info": {
   "codemirror_mode": {
    "name": "ipython",
    "version": 3
   },
   "file_extension": ".py",
   "mimetype": "text/x-python",
   "name": "python",
   "nbconvert_exporter": "python",
   "pygments_lexer": "ipython3",
   "version": "3.9.7"
  }
 },
 "nbformat": 4,
 "nbformat_minor": 5
}
