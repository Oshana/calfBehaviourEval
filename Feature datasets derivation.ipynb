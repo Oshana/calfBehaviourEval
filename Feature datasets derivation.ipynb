{
 "cells": [
  {
   "cell_type": "code",
   "execution_count": 1,
   "id": "dfba6ece",
   "metadata": {},
   "outputs": [],
   "source": [
    "import sys\n",
    "sys.path.append('./libraries')"
   ]
  },
  {
   "cell_type": "code",
   "execution_count": 2,
   "id": "3d0baf10",
   "metadata": {},
   "outputs": [],
   "source": [
    "import pickle\n",
    "import pandas as pd\n",
    "import numpy as np\n",
    "from sklearn.preprocessing import StandardScaler\n",
    "\n",
    "from libraries.functions import contains_non_numeric\n",
    "\n",
    "# Hand-Crafted features\n",
    "from libraries.hand_crafted_features import return_HC_features\n",
    "\n",
    "# Catch22 Features\n",
    "from pycatch22 import catch22_all\n",
    "\n",
    "# ROCKET Features\n",
    "from sktime.transformations.panel.rocket import (\n",
    "    MiniRocket,\n",
    "    MiniRocketMultivariateVariable,\n",
    ")"
   ]
  },
  {
   "cell_type": "markdown",
   "id": "9ffb1197",
   "metadata": {},
   "source": [
    "# File paths"
   ]
  },
  {
   "cell_type": "code",
   "execution_count": 3,
   "id": "7113f7ba",
   "metadata": {},
   "outputs": [],
   "source": [
    "windowed_dataset_path = './dataset/windowed_data_six_labels_dataset.pkl'\n",
    "\n",
    "HC_feature_dataset_save_path = './dataset/feature_datasets/HC_feature_data_6_behaviours.pkl'\n",
    "Catch24_feature_dataset_save_path = './dataset/feature_datasets/Catch24_feature_data_6_behaviours.pkl'\n",
    "ROCKET_feature_dataset_save_path = './dataset/feature_datasets/ROCKET_feature_data_6_behaviours.pkl'"
   ]
  },
  {
   "cell_type": "markdown",
   "id": "b977e340",
   "metadata": {},
   "source": [
    "# Consts"
   ]
  },
  {
   "cell_type": "code",
   "execution_count": 4,
   "id": "e9b02746",
   "metadata": {},
   "outputs": [],
   "source": [
    "CONSIDERED_LABELS = ['drinking_milk', 'grooming', 'lying', 'running', 'walking', 'other']"
   ]
  },
  {
   "cell_type": "code",
   "execution_count": 5,
   "id": "86ea1a7e",
   "metadata": {},
   "outputs": [],
   "source": [
    "keys = ['Accx', 'Accy', 'Accz', 'Amag', 'ODBA', 'VeDBA', 'pitch', 'roll']"
   ]
  },
  {
   "cell_type": "markdown",
   "id": "6e01f3af",
   "metadata": {},
   "source": [
    "# Importing window data"
   ]
  },
  {
   "cell_type": "code",
   "execution_count": 6,
   "id": "b1df07ce",
   "metadata": {},
   "outputs": [],
   "source": [
    "with open(windowed_dataset_path, 'rb') as f:\n",
    "    window_data = pickle.load(f)"
   ]
  },
  {
   "cell_type": "markdown",
   "id": "0343a106",
   "metadata": {},
   "source": [
    "# Hand-Crafted Feature Derivation"
   ]
  },
  {
   "cell_type": "code",
   "execution_count": 7,
   "id": "7f785478",
   "metadata": {},
   "outputs": [
    {
     "name": "stdout",
     "output_type": "stream",
     "text": [
      "CPU times: user 11min 36s, sys: 559 ms, total: 11min 37s\n",
      "Wall time: 11min 37s\n"
     ]
    }
   ],
   "source": [
    "%%time\n",
    "\n",
    "HC_feature_data = {}\n",
    "\n",
    "for calf, label_data in window_data.items():\n",
    "    HC_feature_data[calf] = {}\n",
    "    for label, windows in label_data.items():\n",
    "        HC_feature_data[calf][label] = []\n",
    "        for window in windows:\n",
    "            features = []\n",
    "            for key in keys:\n",
    "                data_array = np.array(window[key])\n",
    "                HC_features = return_HC_features(data_array)\n",
    "                features.extend(HC_features)\n",
    "            \n",
    "            if not contains_non_numeric(features):  # Ensure that all features are present\n",
    "                HC_feature_data[calf][label].append(features)"
   ]
  },
  {
   "cell_type": "code",
   "execution_count": 8,
   "id": "cff03945",
   "metadata": {},
   "outputs": [],
   "source": [
    "# save HC Feature data\n",
    "with open(HC_feature_dataset_save_path, 'wb') as f:\n",
    "    pickle.dump(HC_feature_data, f)"
   ]
  },
  {
   "cell_type": "code",
   "execution_count": 9,
   "id": "201c9327",
   "metadata": {},
   "outputs": [],
   "source": [
    "del HC_feature_data"
   ]
  },
  {
   "cell_type": "markdown",
   "id": "041702ea",
   "metadata": {},
   "source": [
    "# Catch24 Feature Derivation"
   ]
  },
  {
   "cell_type": "code",
   "execution_count": 10,
   "id": "ead1c080",
   "metadata": {},
   "outputs": [
    {
     "name": "stdout",
     "output_type": "stream",
     "text": [
      "CPU times: user 3min 33s, sys: 2.05 s, total: 3min 35s\n",
      "Wall time: 3min 22s\n"
     ]
    }
   ],
   "source": [
    "%%time\n",
    "\n",
    "Catch22_feature_data = {}\n",
    "\n",
    "for calf, label_data in window_data.items():\n",
    "    Catch22_feature_data[calf] = {}\n",
    "    for label, windows in label_data.items():\n",
    "        Catch22_feature_data[calf][label] = []\n",
    "        for window in windows:\n",
    "            features = []\n",
    "            for key in keys:\n",
    "                data_array = np.array(window[key])\n",
    "                catch22_features = catch22_all(data_array, catch24=True)['values']\n",
    "                features.extend(catch22_features)\n",
    "            \n",
    "            if not contains_non_numeric(features):  # Ensure that all features are present\n",
    "                Catch22_feature_data[calf][label].append(features)"
   ]
  },
  {
   "cell_type": "code",
   "execution_count": 11,
   "id": "5d611ef9",
   "metadata": {},
   "outputs": [],
   "source": [
    "# save Catch24 feature data\n",
    "with open(Catch24_feature_dataset_save_path, 'wb') as f:\n",
    "    pickle.dump(Catch22_feature_data, f)"
   ]
  },
  {
   "cell_type": "code",
   "execution_count": 12,
   "id": "8d783be6",
   "metadata": {},
   "outputs": [],
   "source": [
    "del Catch22_feature_data"
   ]
  },
  {
   "cell_type": "markdown",
   "id": "e227de1a",
   "metadata": {},
   "source": [
    "# ROCKET Feature Derivation"
   ]
  },
  {
   "cell_type": "code",
   "execution_count": 13,
   "id": "646b7da5",
   "metadata": {},
   "outputs": [],
   "source": [
    "def derive_ROCKET_features(data_df, minirocket_multi, scaler, keys, trim=0):\n",
    "    \n",
    "    minirocket_multi.fit(data_df)\n",
    "    X_transform = minirocket_multi.transform(data_df)\n",
    "\n",
    "    X_scaled_transform = scaler.fit_transform(X_transform)\n",
    "    \n",
    "    return X_scaled_transform"
   ]
  },
  {
   "cell_type": "code",
   "execution_count": 14,
   "id": "538501ae",
   "metadata": {},
   "outputs": [
    {
     "name": "stderr",
     "output_type": "stream",
     "text": [
      "/home/admin/anaconda3/lib/python3.9/site-packages/sktime/transformations/base.py:486: UserWarning: X is of equal length, consider using MiniRocketMultivariate for speedup and stability instead.\n",
      "  self._fit(X=X_inner, y=y_inner)\n",
      "/home/admin/anaconda3/lib/python3.9/site-packages/sktime/transformations/base.py:486: UserWarning: X is of equal length, consider using MiniRocketMultivariate for speedup and stability instead.\n",
      "  self._fit(X=X_inner, y=y_inner)\n",
      "/home/admin/anaconda3/lib/python3.9/site-packages/sktime/transformations/base.py:486: UserWarning: X is of equal length, consider using MiniRocketMultivariate for speedup and stability instead.\n",
      "  self._fit(X=X_inner, y=y_inner)\n"
     ]
    },
    {
     "name": "stdout",
     "output_type": "stream",
     "text": [
      "CPU times: user 2min 42s, sys: 1.77 s, total: 2min 44s\n",
      "Wall time: 2min 44s\n"
     ]
    }
   ],
   "source": [
    "%%time\n",
    "\n",
    "def derive_ROCKET_features(data_df, minirocket_multi, scaler, keys, trim=0):\n",
    "    \n",
    "    minirocket_multi.fit(data_df)\n",
    "    X_transform = minirocket_multi.transform(data_df)\n",
    "\n",
    "    X_scaled_transform = scaler.fit_transform(X_transform)\n",
    "    \n",
    "    return X_scaled_transform\n",
    "\n",
    "ROCKET_feature_data = {}\n",
    "\n",
    "minirocket_multi_var = MiniRocketMultivariateVariable(num_kernels=10000, random_state=42)\n",
    "scaler = StandardScaler(with_mean=False)\n",
    "\n",
    "for calf_id, label_data in window_data.items():\n",
    "    ROCKET_feature_data[calf_id] = {}\n",
    "    for label, windows in label_data.items():\n",
    "        series_data = []\n",
    "        for window in windows:\n",
    "            series_list = [window[col] for col in keys]\n",
    "            series_data.append(series_list)\n",
    "        series_df = pd.DataFrame(series_data)\n",
    "        ROCKET_feature_data[calf_id][label] = derive_ROCKET_features(series_df, minirocket_multi_var, \n",
    "                                                                     scaler, keys)\n",
    "        \n",
    "'''\n",
    "UserWarning: X is of equal length, consider using MiniRocketMultivariate for speedup and stability instead,\n",
    "occurs because there can be some cases where'''"
   ]
  },
  {
   "cell_type": "code",
   "execution_count": 15,
   "id": "576ddb23",
   "metadata": {},
   "outputs": [],
   "source": [
    "# save ROCKET feature data\n",
    "with open(ROCKET_feature_dataset_save_path, 'wb') as f:\n",
    "    pickle.dump(ROCKET_feature_data, f)"
   ]
  }
 ],
 "metadata": {
  "kernelspec": {
   "display_name": "py39",
   "language": "python",
   "name": "py39"
  },
  "language_info": {
   "codemirror_mode": {
    "name": "ipython",
    "version": 3
   },
   "file_extension": ".py",
   "mimetype": "text/x-python",
   "name": "python",
   "nbconvert_exporter": "python",
   "pygments_lexer": "ipython3",
   "version": "3.9.7"
  }
 },
 "nbformat": 4,
 "nbformat_minor": 5
}
