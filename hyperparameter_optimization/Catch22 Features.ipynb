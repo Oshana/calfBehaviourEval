{
 "cells": [
  {
   "cell_type": "code",
   "execution_count": 1,
   "id": "d9858ef0",
   "metadata": {},
   "outputs": [],
   "source": [
    "import sys\n",
    "import os\n",
    "sys.path.append('..')"
   ]
  },
  {
   "cell_type": "code",
   "execution_count": 2,
   "id": "9d5a72c8",
   "metadata": {},
   "outputs": [],
   "source": [
    "import pickle\n",
    "import numpy as np\n",
    "import time\n",
    "from libraries.data_separation import separate_data\n",
    "from libraries.gridsearch import perform_GridSearchCV"
   ]
  },
  {
   "cell_type": "code",
   "execution_count": 3,
   "id": "5c60c597",
   "metadata": {},
   "outputs": [],
   "source": [
    "from sklearn.preprocessing import LabelEncoder\n",
    "from xgboost import XGBClassifier\n",
    "from sklearn.ensemble import RandomForestClassifier\n",
    "from sklearn.linear_model import RidgeClassifierCV"
   ]
  },
  {
   "cell_type": "markdown",
   "id": "9f3aa9e9",
   "metadata": {},
   "source": [
    "# File Paths"
   ]
  },
  {
   "cell_type": "code",
   "execution_count": 8,
   "id": "c87784c3",
   "metadata": {},
   "outputs": [],
   "source": [
    "Catch22_windowed_feature_dataset_path = '../dataset/feature_datasets/Catch24_feature_data_6_behaviours.pkl'\n",
    "train_validation_test_split_information_data_path = '../dataset/information_datasets/train_validation_test_set_info_6_labels.pkl'\n",
    "xgb_gs_outcomes_save_path = './results/Catch22/Catch22_xgb_gs_outcomes.pkl'\n",
    "rf_gs_outcomes_save_path = './results/Catch22/Catch22_rf_gs_outcomes.pkl'\n",
    "rcv_gs_outcomes_save_path = './results/Catch22/Catch22_rcv_gs_outcomes.pkl'"
   ]
  },
  {
   "cell_type": "markdown",
   "id": "ce01a50b",
   "metadata": {},
   "source": [
    "# Importing feature data"
   ]
  },
  {
   "cell_type": "code",
   "execution_count": 5,
   "id": "d1d184cf",
   "metadata": {},
   "outputs": [],
   "source": [
    "with open(Catch22_windowed_feature_dataset_path, 'rb') as f:\n",
    "    feature_data = pickle.load(f)"
   ]
  },
  {
   "cell_type": "markdown",
   "id": "a3b9c2e6",
   "metadata": {},
   "source": [
    "# Import Train, Validation, Test set information"
   ]
  },
  {
   "cell_type": "code",
   "execution_count": 6,
   "id": "2b45c16a",
   "metadata": {},
   "outputs": [],
   "source": [
    "with open(train_validation_test_split_information_data_path, 'rb') as f:\n",
    "    calf_split_info = pickle.load(f)"
   ]
  },
  {
   "cell_type": "markdown",
   "id": "23f49c53",
   "metadata": {},
   "source": [
    "# Train / Test  data genration & Train / Validation set separation"
   ]
  },
  {
   "cell_type": "code",
   "execution_count": 7,
   "id": "16094156",
   "metadata": {},
   "outputs": [],
   "source": [
    "# X_test and y_test won't be used\n",
    "X_train, y_train, X_test, y_test, train_index_sets, vaildation_index_sets = separate_data(calf_split_info, \n",
    "                                                                                         feature_data)"
   ]
  },
  {
   "cell_type": "markdown",
   "id": "f6b3571c",
   "metadata": {},
   "source": [
    "# XGB"
   ]
  },
  {
   "cell_type": "markdown",
   "id": "4f9b67d7",
   "metadata": {},
   "source": [
    "## GridSearch"
   ]
  },
  {
   "cell_type": "code",
   "execution_count": null,
   "id": "d24887ee",
   "metadata": {},
   "outputs": [],
   "source": [
    "%%time\n",
    "\n",
    "# label encoding for XGB\n",
    "label_encoder = LabelEncoder()\n",
    "y_train_encoded = label_encoder.fit_transform(y_train)\n",
    "\n",
    "# classifier\n",
    "xgb_classifier = XGBClassifier()\n",
    "\n",
    "# experimented params\n",
    "xgb_params= {\n",
    "        'n_estimators': [100, 200],\n",
    "        'eta': [0, 0.5, 1],\n",
    "        'gamma': [0, 5, 10],\n",
    "        'max_depth': [0, None, 10],\n",
    "        'class_weight': [None, 'balanced'] \n",
    "    },\n",
    "\n",
    "\n",
    "# GridSearch\n",
    "xgb_gridsearch_results = perform_GridSearchCV(xgb_classifier, xgb_params, X_train, y_train_encoded, \n",
    "                                          train_index_sets, vaildation_index_sets)\n",
    "\n",
    "# Check if the save directory exists, and if not, create it\n",
    "xgb_directory = os.path.dirname(xgb_gs_outcomes_save_path)\n",
    "\n",
    "if not os.path.exists(xgb_directory):\n",
    "    os.makedirs(xgb_directory)\n",
    "\n",
    "# save data\n",
    "with open(xgb_gs_outcomes_save_path, 'wb') as f:\n",
    "    pickle.dump(xgb_gridsearch_results, f)\n",
    "\n",
    "print('XGB GridSearch Complete!')"
   ]
  },
  {
   "cell_type": "markdown",
   "id": "6728759a",
   "metadata": {},
   "source": [
    "# RandomForest"
   ]
  },
  {
   "cell_type": "markdown",
   "id": "deffab5c",
   "metadata": {},
   "source": [
    "## GridSearch"
   ]
  },
  {
   "cell_type": "code",
   "execution_count": null,
   "id": "f5385e8c",
   "metadata": {},
   "outputs": [],
   "source": [
    "%%time\n",
    "\n",
    "# classifier\n",
    "rf_classifier = RandomForestClassifier()\n",
    "\n",
    "# experimented params\n",
    "rf_params= {\n",
    "        'n_estimators': [100, 200],\n",
    "        'max_depth': [None, 10],\n",
    "        'min_samples_split': [2, 5],\n",
    "        'max_features': [None, 'log2', 'sqrt'],\n",
    "        'criterion': ['gini', 'entropy'],\n",
    "        'class_weight': [None, 'balanced'] \n",
    "    },\n",
    "\n",
    "# GridSearch\n",
    "rf_gridsearch_results = perform_GridSearchCV(rf_classifier, rf_params, X_train, y_train, \n",
    "                                          train_index_sets, vaildation_index_sets)\n",
    "\n",
    "# Check if the save directory exists, and if not, create it\n",
    "rf_directory = os.path.dirname(rf_gs_outcomes_save_path)\n",
    "\n",
    "if not os.path.exists(rf_directory):\n",
    "    os.makedirs(rf_directory)\n",
    "\n",
    "# save data\n",
    "with open(rf_gs_outcomes_save_path, 'wb') as f:\n",
    "    pickle.dump(rf_gridsearch_results, f)\n",
    "\n",
    "print('Random Forest GridSearch Complete!')"
   ]
  },
  {
   "cell_type": "markdown",
   "id": "48de97d3",
   "metadata": {},
   "source": [
    "# RidgeClassifierCV"
   ]
  },
  {
   "cell_type": "markdown",
   "id": "9df089c8",
   "metadata": {},
   "source": [
    "## GridSearch"
   ]
  },
  {
   "cell_type": "code",
   "execution_count": 10,
   "id": "0ab4bcde",
   "metadata": {},
   "outputs": [
    {
     "name": "stdout",
     "output_type": "stream",
     "text": [
      "Fitting 10 folds for each of 8 candidates, totalling 80 fits\n",
      "RidgeClassifier GridSearch Complete!\n",
      "CPU times: user 21min 43s, sys: 1min 57s, total: 23min 41s\n",
      "Wall time: 5min 12s\n"
     ]
    }
   ],
   "source": [
    "%%time\n",
    "\n",
    "# classifier\n",
    "rcv_classifier = RidgeClassifierCV()\n",
    "\n",
    "# experimented params\n",
    "rcv_params= {\n",
    "        'fit_intercept': [True, False],\n",
    "        'class_weight': [None, 'balanced'],\n",
    "        'alphas': [np.logspace(-3,3,100), np.logspace(-1,10,100)]\n",
    "    }\n",
    "\n",
    "# GridSearch\n",
    "rcv_gridsearch_results = perform_GridSearchCV(rcv_classifier, rcv_params, X_train, y_train, \n",
    "                                          train_index_sets, vaildation_index_sets)\n",
    "\n",
    "# Check if the save directory exists, and if not, create it\n",
    "rcv_directory = os.path.dirname(rcv_gs_outcomes_save_path)\n",
    "\n",
    "if not os.path.exists(rcv_directory):\n",
    "    os.makedirs(rcv_directory)\n",
    "\n",
    "# save data\n",
    "with open(rcv_gs_outcomes_save_path, 'wb') as f:\n",
    "    pickle.dump(rcv_gridsearch_results, f)\n",
    "\n",
    "print('RidgeClassifier GridSearch Complete!')"
   ]
  }
 ],
 "metadata": {
  "kernelspec": {
   "display_name": "py39",
   "language": "python",
   "name": "py39"
  },
  "language_info": {
   "codemirror_mode": {
    "name": "ipython",
    "version": 3
   },
   "file_extension": ".py",
   "mimetype": "text/x-python",
   "name": "python",
   "nbconvert_exporter": "python",
   "pygments_lexer": "ipython3",
   "version": "3.9.7"
  }
 },
 "nbformat": 4,
 "nbformat_minor": 5
}
