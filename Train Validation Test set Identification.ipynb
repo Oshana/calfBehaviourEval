{
 "cells": [
  {
   "cell_type": "code",
   "execution_count": 1,
   "id": "8c0be4ba",
   "metadata": {},
   "outputs": [],
   "source": [
    "import sys\n",
    "sys.path.append('./libraries')"
   ]
  },
  {
   "cell_type": "code",
   "execution_count": 2,
   "id": "bfb54f60",
   "metadata": {},
   "outputs": [],
   "source": [
    "import pandas as pd\n",
    "import pickle\n",
    "import math\n",
    "from libraries.functions import get_test_calves, find_optimal_calf_combinations_for_split, check_for_duplicates"
   ]
  },
  {
   "cell_type": "markdown",
   "id": "fce8c22f",
   "metadata": {},
   "source": [
    "# File Paths"
   ]
  },
  {
   "cell_type": "code",
   "execution_count": 3,
   "id": "79e7aae6",
   "metadata": {},
   "outputs": [],
   "source": [
    "data_amounts_dataset_path = './dataset/information_datasets/data_amounts_per_calf_6_labels.csv'\n",
    "train_validation_test_set_info_6_labels = './dataset/information_datasets/train_validation_test_set_info_6_labels.pkl'"
   ]
  },
  {
   "cell_type": "markdown",
   "id": "4518c18e",
   "metadata": {},
   "source": [
    "# Conts / Vars"
   ]
  },
  {
   "cell_type": "code",
   "execution_count": 4,
   "id": "eabc0d88",
   "metadata": {},
   "outputs": [],
   "source": [
    "CONSIDERED_LABELS = ['drinking_milk', 'grooming', 'lying', 'running', 'walking', 'other']"
   ]
  },
  {
   "cell_type": "markdown",
   "id": "3a046192",
   "metadata": {},
   "source": [
    "# Importing dataset information"
   ]
  },
  {
   "cell_type": "code",
   "execution_count": 5,
   "id": "f1638340",
   "metadata": {},
   "outputs": [
    {
     "data": {
      "text/html": [
       "<div>\n",
       "<style scoped>\n",
       "    .dataframe tbody tr th:only-of-type {\n",
       "        vertical-align: middle;\n",
       "    }\n",
       "\n",
       "    .dataframe tbody tr th {\n",
       "        vertical-align: top;\n",
       "    }\n",
       "\n",
       "    .dataframe thead th {\n",
       "        text-align: right;\n",
       "    }\n",
       "</style>\n",
       "<table border=\"1\" class=\"dataframe\">\n",
       "  <thead>\n",
       "    <tr style=\"text-align: right;\">\n",
       "      <th></th>\n",
       "      <th>calf_id</th>\n",
       "      <th>drinking_milk</th>\n",
       "      <th>grooming</th>\n",
       "      <th>lying</th>\n",
       "      <th>other</th>\n",
       "      <th>running</th>\n",
       "      <th>walking</th>\n",
       "    </tr>\n",
       "  </thead>\n",
       "  <tbody>\n",
       "    <tr>\n",
       "      <th>0</th>\n",
       "      <td>1302</td>\n",
       "      <td>51</td>\n",
       "      <td>154</td>\n",
       "      <td>1930</td>\n",
       "      <td>1229</td>\n",
       "      <td>106</td>\n",
       "      <td>38</td>\n",
       "    </tr>\n",
       "    <tr>\n",
       "      <th>1</th>\n",
       "      <td>1303</td>\n",
       "      <td>333</td>\n",
       "      <td>32</td>\n",
       "      <td>1093</td>\n",
       "      <td>1933</td>\n",
       "      <td>35</td>\n",
       "      <td>38</td>\n",
       "    </tr>\n",
       "    <tr>\n",
       "      <th>2</th>\n",
       "      <td>1306</td>\n",
       "      <td>45</td>\n",
       "      <td>95</td>\n",
       "      <td>794</td>\n",
       "      <td>1582</td>\n",
       "      <td>73</td>\n",
       "      <td>29</td>\n",
       "    </tr>\n",
       "    <tr>\n",
       "      <th>3</th>\n",
       "      <td>1308</td>\n",
       "      <td>281</td>\n",
       "      <td>135</td>\n",
       "      <td>1859</td>\n",
       "      <td>1455</td>\n",
       "      <td>161</td>\n",
       "      <td>60</td>\n",
       "    </tr>\n",
       "    <tr>\n",
       "      <th>4</th>\n",
       "      <td>1312</td>\n",
       "      <td>36</td>\n",
       "      <td>120</td>\n",
       "      <td>195</td>\n",
       "      <td>2025</td>\n",
       "      <td>50</td>\n",
       "      <td>6</td>\n",
       "    </tr>\n",
       "  </tbody>\n",
       "</table>\n",
       "</div>"
      ],
      "text/plain": [
       "   calf_id  drinking_milk  grooming  lying  other  running  walking\n",
       "0     1302             51       154   1930   1229      106       38\n",
       "1     1303            333        32   1093   1933       35       38\n",
       "2     1306             45        95    794   1582       73       29\n",
       "3     1308            281       135   1859   1455      161       60\n",
       "4     1312             36       120    195   2025       50        6"
      ]
     },
     "execution_count": 5,
     "metadata": {},
     "output_type": "execute_result"
    }
   ],
   "source": [
    "data_amounts_df = pd.read_csv(data_amounts_dataset_path)\n",
    "data_amounts_df.head()"
   ]
  },
  {
   "cell_type": "markdown",
   "id": "de0cea64",
   "metadata": {},
   "source": [
    "# Identifying the best test calves"
   ]
  },
  {
   "cell_type": "markdown",
   "id": "c93a1590",
   "metadata": {},
   "source": [
    "### Calves with data for all the labels"
   ]
  },
  {
   "cell_type": "code",
   "execution_count": 6,
   "id": "4a69114f",
   "metadata": {},
   "outputs": [
    {
     "name": "stdout",
     "output_type": "stream",
     "text": [
      "[1302 1303 1306 1308 1312 1314 1319 1320 1328 1329 1333 1336 1343 1353\n",
      " 1357 1372 1398 1405 1443 1452 1455]\n"
     ]
    }
   ],
   "source": [
    "candidate_test_calves = get_test_calves(data_amounts_df, CONSIDERED_LABELS)\n",
    "print(candidate_test_calves)"
   ]
  },
  {
   "cell_type": "markdown",
   "id": "fc9bb955",
   "metadata": {},
   "source": [
    "# Train_Validation / Test split"
   ]
  },
  {
   "cell_type": "code",
   "execution_count": 7,
   "id": "f7de3fb0",
   "metadata": {},
   "outputs": [],
   "source": [
    "train_test_split = 0.3"
   ]
  },
  {
   "cell_type": "code",
   "execution_count": 8,
   "id": "ba3d3e26",
   "metadata": {},
   "outputs": [
    {
     "name": "stdout",
     "output_type": "stream",
     "text": [
      "Total Calves = 30 / No of Train_Validation Calves = 21 / No of Test Calves = 9\n"
     ]
    }
   ],
   "source": [
    "total_calves = len(data_amounts_df.calf_id.unique())\n",
    "no_test_calves = int(total_calves*train_test_split)\n",
    "no_train_validation_calves = total_calves - no_test_calves\n",
    "print('Total Calves = ' + str(total_calves) + ' / No of Train_Validation Calves = ' + str(no_train_validation_calves) +\n",
    "     ' / No of Test Calves = ' + str(no_test_calves))"
   ]
  },
  {
   "cell_type": "code",
   "execution_count": 9,
   "id": "4a8a3fe7",
   "metadata": {},
   "outputs": [
    {
     "name": "stdout",
     "output_type": "stream",
     "text": [
      "(1302, 1303, 1314, 1319, 1328, 1329, 1336, 1353, 1405)\n"
     ]
    }
   ],
   "source": [
    "test_calves = find_optimal_calf_combinations_for_split(candidate_test_calves, no_test_calves, data_amounts_df,\n",
    "                                                       int(no_train_validation_calves/no_test_calves))\n",
    "print(test_calves)"
   ]
  },
  {
   "cell_type": "code",
   "execution_count": 10,
   "id": "be645da2",
   "metadata": {},
   "outputs": [
    {
     "name": "stdout",
     "output_type": "stream",
     "text": [
      "No of Train Calves = 21 / No of Test Calves = 9\n"
     ]
    }
   ],
   "source": [
    "train_validation_calves = [x for x in list(data_amounts_df['calf_id'].unique()) if x not in test_calves]\n",
    "print('No of Train Calves = ' + str(len(train_validation_calves)) + ' / No of Test Calves = ' + str(len(test_calves)))"
   ]
  },
  {
   "cell_type": "markdown",
   "id": "cb95137f",
   "metadata": {},
   "source": [
    "# Train / Validation sets"
   ]
  },
  {
   "cell_type": "code",
   "execution_count": 11,
   "id": "1263cf57",
   "metadata": {},
   "outputs": [],
   "source": [
    "train_validation_split = 0.3"
   ]
  },
  {
   "cell_type": "code",
   "execution_count": 12,
   "id": "ee28cc84",
   "metadata": {},
   "outputs": [
    {
     "name": "stdout",
     "output_type": "stream",
     "text": [
      "No of Train Calves = 14 / No of Validation Calves = 7\n"
     ]
    }
   ],
   "source": [
    "no_of_validation_calves = math.ceil(len(train_validation_calves)*train_validation_split)\n",
    "no_of_train_calves = len(train_validation_calves) - (no_of_validation_calves)\n",
    "print('No of Train Calves = ' + str(no_of_train_calves) + ' / No of Validation Calves = ' + str(no_of_validation_calves))"
   ]
  },
  {
   "cell_type": "code",
   "execution_count": 13,
   "id": "00debddb",
   "metadata": {},
   "outputs": [
    {
     "name": "stdout",
     "output_type": "stream",
     "text": [
      "CV iterations were successfully generated\n"
     ]
    }
   ],
   "source": [
    "cv = 10\n",
    "\n",
    "candidate_validation_calves = [x for x in candidate_test_calves if not x in test_calves]\n",
    "\n",
    "validation_iterations = find_optimal_calf_combinations_for_split(candidate_validation_calves, no_of_validation_calves, data_amounts_df,\n",
    "                                                       math.ceil(no_of_train_calves/no_of_validation_calves), is_test_set=False, cv=10)\n",
    "\n",
    "if len(validation_iterations) != cv:\n",
    "    print('Number of possible combinations < cv')\n",
    "else:\n",
    "    print('CV iterations were successfully generated')\n",
    "    validation_iterations"
   ]
  },
  {
   "cell_type": "code",
   "execution_count": 14,
   "id": "ecee1b99",
   "metadata": {},
   "outputs": [
    {
     "data": {
      "text/plain": [
       "[(1306, 1308, 1312, 1398, 1443, 1452, 1455),\n",
       " (1306, 1308, 1320, 1398, 1443, 1452, 1455),\n",
       " (1306, 1308, 1320, 1357, 1443, 1452, 1455),\n",
       " (1306, 1308, 1312, 1357, 1443, 1452, 1455),\n",
       " (1306, 1308, 1320, 1372, 1443, 1452, 1455),\n",
       " (1308, 1312, 1320, 1357, 1443, 1452, 1455),\n",
       " (1308, 1312, 1320, 1398, 1443, 1452, 1455),\n",
       " (1306, 1308, 1357, 1372, 1443, 1452, 1455),\n",
       " (1306, 1308, 1372, 1398, 1443, 1452, 1455),\n",
       " (1308, 1312, 1357, 1398, 1443, 1452, 1455)]"
      ]
     },
     "execution_count": 14,
     "metadata": {},
     "output_type": "execute_result"
    }
   ],
   "source": [
    "validation_iterations"
   ]
  },
  {
   "cell_type": "code",
   "execution_count": 15,
   "id": "d24e6260",
   "metadata": {},
   "outputs": [
    {
     "data": {
      "text/plain": [
       "'Success: No Duplicates found'"
      ]
     },
     "execution_count": 15,
     "metadata": {},
     "output_type": "execute_result"
    }
   ],
   "source": [
    "check_for_duplicates(validation_iterations)"
   ]
  },
  {
   "cell_type": "code",
   "execution_count": 16,
   "id": "676ccdc7",
   "metadata": {},
   "outputs": [],
   "source": [
    "validation_test_set_info = {\n",
    "    'all_calves': list(data_amounts_df.calf_id.unique()),\n",
    "    'test_set' : test_calves,\n",
    "    'validation_sets': validation_iterations\n",
    "}"
   ]
  },
  {
   "cell_type": "code",
   "execution_count": 17,
   "id": "17fc79e1",
   "metadata": {},
   "outputs": [],
   "source": [
    "with open(train_validation_test_set_info_6_labels, 'wb') as f:\n",
    "    pickle.dump(validation_test_set_info, f)"
   ]
  }
 ],
 "metadata": {
  "kernelspec": {
   "display_name": "py39",
   "language": "python",
   "name": "py39"
  },
  "language_info": {
   "codemirror_mode": {
    "name": "ipython",
    "version": 3
   },
   "file_extension": ".py",
   "mimetype": "text/x-python",
   "name": "python",
   "nbconvert_exporter": "python",
   "pygments_lexer": "ipython3",
   "version": "3.9.7"
  }
 },
 "nbformat": 4,
 "nbformat_minor": 5
}
