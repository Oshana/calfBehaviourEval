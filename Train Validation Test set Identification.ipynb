{
 "cells": [
  {
   "cell_type": "code",
   "execution_count": null,
   "id": "8c0be4ba",
   "metadata": {},
   "outputs": [],
   "source": [
    "import sys\n",
    "sys.path.append('./libraries')"
   ]
  },
  {
   "cell_type": "code",
   "execution_count": null,
   "id": "bfb54f60",
   "metadata": {},
   "outputs": [],
   "source": [
    "import pandas as pd\n",
    "import pickle\n",
    "import math\n",
    "from libraries.functions import get_test_calves, find_optimal_calf_combinations_for_split, check_for_duplicates"
   ]
  },
  {
   "cell_type": "markdown",
   "id": "fce8c22f",
   "metadata": {},
   "source": [
    "# File Paths"
   ]
  },
  {
   "cell_type": "code",
   "execution_count": null,
   "id": "79e7aae6",
   "metadata": {},
   "outputs": [],
   "source": [
    "data_amounts_dataset_path = './dataset/information_datasets/data_amounts_per_calf_6_labels.csv'\n",
    "train_validation_test_set_info_6_labels = './dataset/information_datasets/train_validation_test_set_info_6_labels.pkl'"
   ]
  },
  {
   "cell_type": "markdown",
   "id": "4518c18e",
   "metadata": {},
   "source": [
    "# Conts / Vars"
   ]
  },
  {
   "cell_type": "code",
   "execution_count": null,
   "id": "eabc0d88",
   "metadata": {},
   "outputs": [],
   "source": [
    "CONSIDERED_LABELS = ['drinking_milk', 'grooming', 'lying', 'running', 'walking', 'other']"
   ]
  },
  {
   "cell_type": "markdown",
   "id": "3a046192",
   "metadata": {},
   "source": [
    "# Importing dataset information"
   ]
  },
  {
   "cell_type": "code",
   "execution_count": null,
   "id": "f1638340",
   "metadata": {},
   "outputs": [],
   "source": [
    "data_amounts_df = pd.read_csv(data_amounts_dataset_path)\n",
    "data_amounts_df.head()"
   ]
  },
  {
   "cell_type": "markdown",
   "id": "de0cea64",
   "metadata": {},
   "source": [
    "# Identifying the best test calves"
   ]
  },
  {
   "cell_type": "markdown",
   "id": "c93a1590",
   "metadata": {},
   "source": [
    "### Calves with data for all the labels"
   ]
  },
  {
   "cell_type": "code",
   "execution_count": null,
   "id": "4a69114f",
   "metadata": {},
   "outputs": [],
   "source": [
    "candidate_test_calves = get_test_calves(data_amounts_df, CONSIDERED_LABELS)\n",
    "print(candidate_test_calves)"
   ]
  },
  {
   "cell_type": "markdown",
   "id": "fc9bb955",
   "metadata": {},
   "source": [
    "# Train_Validation / Test split"
   ]
  },
  {
   "cell_type": "code",
   "execution_count": null,
   "id": "f7de3fb0",
   "metadata": {},
   "outputs": [],
   "source": [
    "train_test_split = 0.3"
   ]
  },
  {
   "cell_type": "code",
   "execution_count": null,
   "id": "ba3d3e26",
   "metadata": {},
   "outputs": [],
   "source": [
    "total_calves = len(data_amounts_df.calf_id.unique())\n",
    "no_test_calves = int(total_calves*train_test_split)\n",
    "no_train_validation_calves = total_calves - no_test_calves\n",
    "print('Total Calves = ' + str(total_calves) + ' / No of Train_Validation Calves = ' + str(no_train_validation_calves) +\n",
    "     ' / No of Test Calves = ' + str(no_test_calves))"
   ]
  },
  {
   "cell_type": "code",
   "execution_count": null,
   "id": "4a8a3fe7",
   "metadata": {},
   "outputs": [],
   "source": [
    "test_calves = find_optimal_calf_combinations_for_split(candidate_test_calves, no_test_calves, data_amounts_df,\n",
    "                                                       train_test_split)\n",
    "print(test_calves)"
   ]
  },
  {
   "cell_type": "code",
   "execution_count": null,
   "id": "be645da2",
   "metadata": {},
   "outputs": [],
   "source": [
    "train_validation_calves = [x for x in list(data_amounts_df['calf_id'].unique()) if x not in test_calves]\n",
    "print('No of Train Calves = ' + str(len(train_validation_calves)) + ' / No of Test Calves = ' + str(len(test_calves)))"
   ]
  },
  {
   "cell_type": "markdown",
   "id": "cb95137f",
   "metadata": {},
   "source": [
    "# Train / Validation sets"
   ]
  },
  {
   "cell_type": "code",
   "execution_count": null,
   "id": "1263cf57",
   "metadata": {},
   "outputs": [],
   "source": [
    "train_validation_split = 0.3"
   ]
  },
  {
   "cell_type": "code",
   "execution_count": null,
   "id": "ee28cc84",
   "metadata": {},
   "outputs": [],
   "source": [
    "no_of_validation_calves = math.ceil(len(train_validation_calves)*train_validation_split)\n",
    "no_of_train_calves = len(train_validation_calves) - (no_of_validation_calves)\n",
    "print('No of Train Calves = ' + str(no_of_train_calves) + ' / No of Validation Calves = ' + str(no_of_validation_calves))"
   ]
  },
  {
   "cell_type": "code",
   "execution_count": null,
   "id": "00debddb",
   "metadata": {},
   "outputs": [],
   "source": [
    "cv = 10\n",
    "\n",
    "candidate_validation_calves = [x for x in candidate_test_calves if not x in test_calves]\n",
    "\n",
    "validation_iterations = find_optimal_calf_combinations_for_split(candidate_validation_calves, \n",
    "                                                                 no_of_validation_calves, data_amounts_df,\n",
    "                                                                 train_test_split, is_test_set=False, cv=10)\n",
    "\n",
    "if len(validation_iterations) != cv:\n",
    "    print('Number of possible combinations < cv')\n",
    "else:\n",
    "    print('CV iterations were successfully generated')\n",
    "    validation_iterations"
   ]
  },
  {
   "cell_type": "code",
   "execution_count": null,
   "id": "ecee1b99",
   "metadata": {},
   "outputs": [],
   "source": [
    "validation_iterations"
   ]
  },
  {
   "cell_type": "code",
   "execution_count": null,
   "id": "d24e6260",
   "metadata": {},
   "outputs": [],
   "source": [
    "check_for_duplicates(validation_iterations)"
   ]
  },
  {
   "cell_type": "code",
   "execution_count": null,
   "id": "676ccdc7",
   "metadata": {},
   "outputs": [],
   "source": [
    "validation_test_set_info = {\n",
    "    'all_calves': list(data_amounts_df.calf_id.unique()),\n",
    "    'test_set' : test_calves,\n",
    "    'validation_sets': validation_iterations\n",
    "}"
   ]
  },
  {
   "cell_type": "code",
   "execution_count": null,
   "id": "17fc79e1",
   "metadata": {},
   "outputs": [],
   "source": [
    "with open(train_validation_test_set_info_6_labels, 'wb') as f:\n",
    "    pickle.dump(validation_test_set_info, f)"
   ]
  }
 ],
 "metadata": {
  "kernelspec": {
   "display_name": "py39",
   "language": "python",
   "name": "py39"
  },
  "language_info": {
   "codemirror_mode": {
    "name": "ipython",
    "version": 3
   },
   "file_extension": ".py",
   "mimetype": "text/x-python",
   "name": "python",
   "nbconvert_exporter": "python",
   "pygments_lexer": "ipython3",
   "version": "3.9.7"
  }
 },
 "nbformat": 4,
 "nbformat_minor": 5
}
