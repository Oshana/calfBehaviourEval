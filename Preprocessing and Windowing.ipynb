{
 "cells": [
  {
   "cell_type": "code",
   "execution_count": 1,
   "id": "65f71b22",
   "metadata": {},
   "outputs": [],
   "source": [
    "import sys\n",
    "sys.path.append('./libraries')"
   ]
  },
  {
   "cell_type": "code",
   "execution_count": 2,
   "id": "4cfb4f86",
   "metadata": {},
   "outputs": [],
   "source": [
    "import pandas as pd\n",
    "from libraries.windowing import return_windows\n",
    "import pickle\n",
    "from libraries.functions import calculate_magnitude, calculate_VeDBA, calculate_ODBA, calculate_pitch, calculate_roll"
   ]
  },
  {
   "cell_type": "markdown",
   "id": "ed37bd0f",
   "metadata": {},
   "source": [
    "# File Paths"
   ]
  },
  {
   "cell_type": "code",
   "execution_count": 30,
   "id": "d3bcd6c1",
   "metadata": {},
   "outputs": [],
   "source": [
    "dataset_path = './dataset/dehorning_annotated_original_dataset.csv'\n",
    "complete_dataset_save_path = './dataset/dehorning_annotated_complete_dataset.csv'\n",
    "windowed_dataset_save_path = './dataset/windowed_data_six_labels_dataset.pkl'\n",
    "data_amounts_per_calf_save_path = './dataset/information_datasets/data_amounts_per_calf_6_labels.csv'"
   ]
  },
  {
   "cell_type": "markdown",
   "id": "f66685ea",
   "metadata": {},
   "source": [
    "# Consts"
   ]
  },
  {
   "cell_type": "code",
   "execution_count": 20,
   "id": "fc7a79d3",
   "metadata": {},
   "outputs": [],
   "source": [
    "CONSIDERED_MAIN_LABELS = sorted(['drinking_milk', 'grooming', 'lying', 'running', 'walking'])\n",
    "CONSIDERED_LABELS = sorted(['drinking_milk', 'grooming', 'lying', 'running', 'walking', 'other'])"
   ]
  },
  {
   "cell_type": "markdown",
   "id": "381f4080",
   "metadata": {},
   "source": [
    "# Reading the Dataset"
   ]
  },
  {
   "cell_type": "code",
   "execution_count": 5,
   "id": "2f212aaa",
   "metadata": {},
   "outputs": [
    {
     "data": {
      "text/html": [
       "<div>\n",
       "<style scoped>\n",
       "    .dataframe tbody tr th:only-of-type {\n",
       "        vertical-align: middle;\n",
       "    }\n",
       "\n",
       "    .dataframe tbody tr th {\n",
       "        vertical-align: top;\n",
       "    }\n",
       "\n",
       "    .dataframe thead th {\n",
       "        text-align: right;\n",
       "    }\n",
       "</style>\n",
       "<table border=\"1\" class=\"dataframe\">\n",
       "  <thead>\n",
       "    <tr style=\"text-align: right;\">\n",
       "      <th></th>\n",
       "      <th>calf_id</th>\n",
       "      <th>DateTime</th>\n",
       "      <th>Accx</th>\n",
       "      <th>Accy</th>\n",
       "      <th>Accz</th>\n",
       "      <th>behaviour</th>\n",
       "      <th>behaviour_seq_id</th>\n",
       "    </tr>\n",
       "  </thead>\n",
       "  <tbody>\n",
       "    <tr>\n",
       "      <th>0</th>\n",
       "      <td>1306</td>\n",
       "      <td>2022-02-24 00:08:34.402385</td>\n",
       "      <td>0.812500</td>\n",
       "      <td>0.390625</td>\n",
       "      <td>0.281250</td>\n",
       "      <td>oral manipulation of pen</td>\n",
       "      <td>0</td>\n",
       "    </tr>\n",
       "    <tr>\n",
       "      <th>1</th>\n",
       "      <td>1306</td>\n",
       "      <td>2022-02-24 00:08:34.441385</td>\n",
       "      <td>0.687500</td>\n",
       "      <td>0.375000</td>\n",
       "      <td>0.375000</td>\n",
       "      <td>oral manipulation of pen</td>\n",
       "      <td>0</td>\n",
       "    </tr>\n",
       "    <tr>\n",
       "      <th>2</th>\n",
       "      <td>1306</td>\n",
       "      <td>2022-02-24 00:08:34.481386</td>\n",
       "      <td>0.625000</td>\n",
       "      <td>0.296875</td>\n",
       "      <td>0.265625</td>\n",
       "      <td>oral manipulation of pen</td>\n",
       "      <td>0</td>\n",
       "    </tr>\n",
       "    <tr>\n",
       "      <th>3</th>\n",
       "      <td>1306</td>\n",
       "      <td>2022-02-24 00:08:34.521386</td>\n",
       "      <td>0.703125</td>\n",
       "      <td>0.218750</td>\n",
       "      <td>0.218750</td>\n",
       "      <td>oral manipulation of pen</td>\n",
       "      <td>0</td>\n",
       "    </tr>\n",
       "    <tr>\n",
       "      <th>4</th>\n",
       "      <td>1306</td>\n",
       "      <td>2022-02-24 00:08:34.560387</td>\n",
       "      <td>0.734375</td>\n",
       "      <td>0.218750</td>\n",
       "      <td>0.250000</td>\n",
       "      <td>oral manipulation of pen</td>\n",
       "      <td>0</td>\n",
       "    </tr>\n",
       "  </tbody>\n",
       "</table>\n",
       "</div>"
      ],
      "text/plain": [
       "   calf_id                   DateTime      Accx      Accy      Accz  \\\n",
       "0     1306 2022-02-24 00:08:34.402385  0.812500  0.390625  0.281250   \n",
       "1     1306 2022-02-24 00:08:34.441385  0.687500  0.375000  0.375000   \n",
       "2     1306 2022-02-24 00:08:34.481386  0.625000  0.296875  0.265625   \n",
       "3     1306 2022-02-24 00:08:34.521386  0.703125  0.218750  0.218750   \n",
       "4     1306 2022-02-24 00:08:34.560387  0.734375  0.218750  0.250000   \n",
       "\n",
       "                  behaviour  behaviour_seq_id  \n",
       "0  oral manipulation of pen                 0  \n",
       "1  oral manipulation of pen                 0  \n",
       "2  oral manipulation of pen                 0  \n",
       "3  oral manipulation of pen                 0  \n",
       "4  oral manipulation of pen                 0  "
      ]
     },
     "execution_count": 5,
     "metadata": {},
     "output_type": "execute_result"
    }
   ],
   "source": [
    "dataset_df = pd.read_csv(dataset_path)\n",
    "dataset_df.DateTime = pd.to_datetime(dataset_df.DateTime)\n",
    "dataset_df.head()"
   ]
  },
  {
   "cell_type": "markdown",
   "id": "359a0ab2",
   "metadata": {},
   "source": [
    "# Deriving Additional Time-series"
   ]
  },
  {
   "cell_type": "code",
   "execution_count": 6,
   "id": "497beb6d",
   "metadata": {},
   "outputs": [
    {
     "name": "stdout",
     "output_type": "stream",
     "text": [
      "CPU times: user 2min 19s, sys: 2.51 s, total: 2min 21s\n",
      "Wall time: 2min 21s\n"
     ]
    }
   ],
   "source": [
    "%%time\n",
    "\n",
    "dataset_df['Amag'] = dataset_df.apply(lambda row: calculate_magnitude(row['Accx'], row['Accy'], row['Accz']), axis=1)\n",
    "dataset_df['VeDBA'] = dataset_df.apply(lambda row: calculate_VeDBA(row['Accx'], row['Accy'], row['Accz']), axis=1)\n",
    "dataset_df['ODBA'] = dataset_df.apply(lambda row: calculate_ODBA(row['Accx'], row['Accy'], row['Accz']), axis=1)\n",
    "dataset_df['pitch'] = dataset_df.apply(lambda row: calculate_pitch(row['Accx'], row['Accy'], row['Accz']), axis=1)\n",
    "dataset_df['roll'] = dataset_df.apply(lambda row: calculate_roll(row['Accx'], row['Accy'], row['Accz']), axis=1)"
   ]
  },
  {
   "cell_type": "code",
   "execution_count": 7,
   "id": "3f485b0f",
   "metadata": {},
   "outputs": [
    {
     "data": {
      "text/html": [
       "<div>\n",
       "<style scoped>\n",
       "    .dataframe tbody tr th:only-of-type {\n",
       "        vertical-align: middle;\n",
       "    }\n",
       "\n",
       "    .dataframe tbody tr th {\n",
       "        vertical-align: top;\n",
       "    }\n",
       "\n",
       "    .dataframe thead th {\n",
       "        text-align: right;\n",
       "    }\n",
       "</style>\n",
       "<table border=\"1\" class=\"dataframe\">\n",
       "  <thead>\n",
       "    <tr style=\"text-align: right;\">\n",
       "      <th></th>\n",
       "      <th>calf_id</th>\n",
       "      <th>DateTime</th>\n",
       "      <th>Accx</th>\n",
       "      <th>Accy</th>\n",
       "      <th>Accz</th>\n",
       "      <th>Amag</th>\n",
       "      <th>VeDBA</th>\n",
       "      <th>ODBA</th>\n",
       "      <th>pitch</th>\n",
       "      <th>roll</th>\n",
       "      <th>behaviour</th>\n",
       "      <th>behaviour_seq_id</th>\n",
       "    </tr>\n",
       "  </thead>\n",
       "  <tbody>\n",
       "    <tr>\n",
       "      <th>0</th>\n",
       "      <td>1306</td>\n",
       "      <td>2022-02-24 00:08:34.402385</td>\n",
       "      <td>0.812500</td>\n",
       "      <td>0.390625</td>\n",
       "      <td>0.281250</td>\n",
       "      <td>0.944376</td>\n",
       "      <td>0.944376</td>\n",
       "      <td>1.484375</td>\n",
       "      <td>17.326459</td>\n",
       "      <td>24.433259</td>\n",
       "      <td>oral manipulation of pen</td>\n",
       "      <td>0</td>\n",
       "    </tr>\n",
       "    <tr>\n",
       "      <th>1</th>\n",
       "      <td>1306</td>\n",
       "      <td>2022-02-24 00:08:34.441385</td>\n",
       "      <td>0.687500</td>\n",
       "      <td>0.375000</td>\n",
       "      <td>0.375000</td>\n",
       "      <td>0.868278</td>\n",
       "      <td>0.868278</td>\n",
       "      <td>1.437500</td>\n",
       "      <td>25.587529</td>\n",
       "      <td>25.587529</td>\n",
       "      <td>oral manipulation of pen</td>\n",
       "      <td>0</td>\n",
       "    </tr>\n",
       "    <tr>\n",
       "      <th>2</th>\n",
       "      <td>1306</td>\n",
       "      <td>2022-02-24 00:08:34.481386</td>\n",
       "      <td>0.625000</td>\n",
       "      <td>0.296875</td>\n",
       "      <td>0.265625</td>\n",
       "      <td>0.741159</td>\n",
       "      <td>0.741159</td>\n",
       "      <td>1.187500</td>\n",
       "      <td>21.001443</td>\n",
       "      <td>23.612889</td>\n",
       "      <td>oral manipulation of pen</td>\n",
       "      <td>0</td>\n",
       "    </tr>\n",
       "    <tr>\n",
       "      <th>3</th>\n",
       "      <td>1306</td>\n",
       "      <td>2022-02-24 00:08:34.521386</td>\n",
       "      <td>0.703125</td>\n",
       "      <td>0.218750</td>\n",
       "      <td>0.218750</td>\n",
       "      <td>0.768172</td>\n",
       "      <td>0.768172</td>\n",
       "      <td>1.140625</td>\n",
       "      <td>16.544924</td>\n",
       "      <td>16.544924</td>\n",
       "      <td>oral manipulation of pen</td>\n",
       "      <td>0</td>\n",
       "    </tr>\n",
       "    <tr>\n",
       "      <th>4</th>\n",
       "      <td>1306</td>\n",
       "      <td>2022-02-24 00:08:34.560387</td>\n",
       "      <td>0.734375</td>\n",
       "      <td>0.218750</td>\n",
       "      <td>0.250000</td>\n",
       "      <td>0.806014</td>\n",
       "      <td>0.806014</td>\n",
       "      <td>1.203125</td>\n",
       "      <td>18.069379</td>\n",
       "      <td>15.747434</td>\n",
       "      <td>oral manipulation of pen</td>\n",
       "      <td>0</td>\n",
       "    </tr>\n",
       "  </tbody>\n",
       "</table>\n",
       "</div>"
      ],
      "text/plain": [
       "   calf_id                   DateTime      Accx      Accy      Accz      Amag  \\\n",
       "0     1306 2022-02-24 00:08:34.402385  0.812500  0.390625  0.281250  0.944376   \n",
       "1     1306 2022-02-24 00:08:34.441385  0.687500  0.375000  0.375000  0.868278   \n",
       "2     1306 2022-02-24 00:08:34.481386  0.625000  0.296875  0.265625  0.741159   \n",
       "3     1306 2022-02-24 00:08:34.521386  0.703125  0.218750  0.218750  0.768172   \n",
       "4     1306 2022-02-24 00:08:34.560387  0.734375  0.218750  0.250000  0.806014   \n",
       "\n",
       "      VeDBA      ODBA      pitch       roll                 behaviour  \\\n",
       "0  0.944376  1.484375  17.326459  24.433259  oral manipulation of pen   \n",
       "1  0.868278  1.437500  25.587529  25.587529  oral manipulation of pen   \n",
       "2  0.741159  1.187500  21.001443  23.612889  oral manipulation of pen   \n",
       "3  0.768172  1.140625  16.544924  16.544924  oral manipulation of pen   \n",
       "4  0.806014  1.203125  18.069379  15.747434  oral manipulation of pen   \n",
       "\n",
       "   behaviour_seq_id  \n",
       "0                 0  \n",
       "1                 0  \n",
       "2                 0  \n",
       "3                 0  \n",
       "4                 0  "
      ]
     },
     "execution_count": 7,
     "metadata": {},
     "output_type": "execute_result"
    }
   ],
   "source": [
    "dataset_df = dataset_df[['calf_id', 'DateTime', 'Accx', 'Accy', 'Accz', 'Amag', 'VeDBA', 'ODBA', 'pitch', 'roll', \n",
    "                         'behaviour', 'behaviour_seq_id']]\n",
    "dataset_df.head()"
   ]
  },
  {
   "cell_type": "markdown",
   "id": "e838fb6d",
   "metadata": {},
   "source": [
    "# Preprocessing - Stage 01"
   ]
  },
  {
   "cell_type": "code",
   "execution_count": 36,
   "id": "f90b1f58",
   "metadata": {},
   "outputs": [
    {
     "data": {
      "text/plain": [
       "False"
      ]
     },
     "execution_count": 36,
     "metadata": {},
     "output_type": "execute_result"
    }
   ],
   "source": [
    "# contains any nan values?\n",
    "dataset_df.isna().any().any()"
   ]
  },
  {
   "cell_type": "code",
   "execution_count": 8,
   "id": "81599e52",
   "metadata": {},
   "outputs": [],
   "source": [
    "dataset_df.to_csv(complete_dataset_save_path, index=False)"
   ]
  },
  {
   "cell_type": "markdown",
   "id": "fdcf632c",
   "metadata": {},
   "source": [
    "# Windowing"
   ]
  },
  {
   "cell_type": "code",
   "execution_count": 9,
   "id": "8e993abe",
   "metadata": {},
   "outputs": [],
   "source": [
    "window_duration = 3 \n",
    "data_frequency = 25\n",
    "min_window_size =  0.95\n",
    "overlap_size = 0.5\n",
    "datetime_column_name = 'DateTime'\n",
    "\n",
    "calf_id_column_name = 'calf_id'\n",
    "label_column_name = 'behaviour'\n",
    "block_number_column_name = 'behaviour_seq_id'\n",
    "\n",
    "# getting the unique calf ids\n",
    "calf_ids = dataset_df.calf_id.unique()"
   ]
  },
  {
   "cell_type": "code",
   "execution_count": 10,
   "id": "1fcb7402",
   "metadata": {},
   "outputs": [
    {
     "name": "stdout",
     "output_type": "stream",
     "text": [
      "CPU times: user 49.6 s, sys: 244 ms, total: 49.8 s\n",
      "Wall time: 49.7 s\n"
     ]
    }
   ],
   "source": [
    "%%time\n",
    "\n",
    "window_data = {}\n",
    "\n",
    "try:\n",
    "    for calf_id in calf_ids:\n",
    "        window_data[calf_id] = {}\n",
    "        calf_data_df = dataset_df[dataset_df[calf_id_column_name] == calf_id]\n",
    "        blocks = calf_data_df[block_number_column_name].unique()\n",
    "\n",
    "        for block in blocks:\n",
    "            block_df = calf_data_df[calf_data_df[block_number_column_name] == block]\n",
    "            \n",
    "            labels = block_df[label_column_name].unique()\n",
    "            if len(labels) > 1:\n",
    "                raise Exception('More than 1 label found per block! ' + str(calf_id) + ' : ' + str(block))\n",
    "            else:\n",
    "                label = labels[0]\n",
    "                        \n",
    "            # window the block data\n",
    "            windows = return_windows(block_df, \n",
    "                                     window_duration=window_duration, \n",
    "                                     data_frequency = data_frequency,\n",
    "                                     min_window_size = min_window_size,\n",
    "                                     overlap = overlap_size,\n",
    "                                     datetime_column_name = datetime_column_name\n",
    "                                     )\n",
    "\n",
    "            if len(windows) > 0:\n",
    "                if not label in window_data[calf_id]:\n",
    "                    window_data[calf_id][label] = []\n",
    "                window_data[calf_id][label].extend(windows)\n",
    "\n",
    "except Exception as e:\n",
    "    print(e)"
   ]
  },
  {
   "cell_type": "markdown",
   "id": "88b5ac0e",
   "metadata": {},
   "source": [
    "# Preprocessing - Stage 02"
   ]
  },
  {
   "cell_type": "markdown",
   "id": "1c687411",
   "metadata": {},
   "source": [
    "## Converting to Six Labels"
   ]
  },
  {
   "cell_type": "code",
   "execution_count": 18,
   "id": "b576b702",
   "metadata": {},
   "outputs": [],
   "source": [
    "def change_keys(dictionary, CONSIDERED_MAIN_LABELS):\n",
    "    new_dict = {}\n",
    "    for key, value in dictionary.items():\n",
    "        if key in CONSIDERED_MAIN_LABELS:\n",
    "            new_dict[key] = value\n",
    "        else:\n",
    "            if not 'other' in new_dict:\n",
    "                new_dict['other'] = []\n",
    "            new_dict['other'].extend(value)\n",
    "    return new_dict\n",
    "\n",
    "window_data_six_labels = {}\n",
    "for calf in window_data:\n",
    "    window_data_six_labels[calf] = change_keys(window_data[calf], CONSIDERED_MAIN_LABELS)"
   ]
  },
  {
   "cell_type": "markdown",
   "id": "d359897c",
   "metadata": {},
   "source": [
    "## Total data amounts"
   ]
  },
  {
   "cell_type": "code",
   "execution_count": 19,
   "id": "501c718b",
   "metadata": {},
   "outputs": [
    {
     "data": {
      "text/plain": [
       "{'other': 23972,\n",
       " 'grooming': 2547,\n",
       " 'running': 1329,\n",
       " 'walking': 1015,\n",
       " 'lying': 24967,\n",
       " 'drinking_milk': 5472}"
      ]
     },
     "execution_count": 19,
     "metadata": {},
     "output_type": "execute_result"
    }
   ],
   "source": [
    "total_data_amounts = {}\n",
    "\n",
    "for calf in window_data_six_labels:\n",
    "    for key in window_data_six_labels[calf]:\n",
    "        if key not in total_data_amounts:\n",
    "            total_data_amounts[key] = 0\n",
    "        total_data_amounts[key] += len(window_data_six_labels[calf][key])\n",
    "        \n",
    "total_data_amounts"
   ]
  },
  {
   "cell_type": "markdown",
   "id": "07662ca0",
   "metadata": {},
   "source": [
    "## Data amounts for each calf"
   ]
  },
  {
   "cell_type": "code",
   "execution_count": 28,
   "id": "7979b2b1",
   "metadata": {},
   "outputs": [
    {
     "data": {
      "text/html": [
       "<div>\n",
       "<style scoped>\n",
       "    .dataframe tbody tr th:only-of-type {\n",
       "        vertical-align: middle;\n",
       "    }\n",
       "\n",
       "    .dataframe tbody tr th {\n",
       "        vertical-align: top;\n",
       "    }\n",
       "\n",
       "    .dataframe thead th {\n",
       "        text-align: right;\n",
       "    }\n",
       "</style>\n",
       "<table border=\"1\" class=\"dataframe\">\n",
       "  <thead>\n",
       "    <tr style=\"text-align: right;\">\n",
       "      <th></th>\n",
       "      <th>calf_id</th>\n",
       "      <th>drinking_milk</th>\n",
       "      <th>grooming</th>\n",
       "      <th>lying</th>\n",
       "      <th>other</th>\n",
       "      <th>running</th>\n",
       "      <th>walking</th>\n",
       "    </tr>\n",
       "  </thead>\n",
       "  <tbody>\n",
       "    <tr>\n",
       "      <th>0</th>\n",
       "      <td>1302</td>\n",
       "      <td>51</td>\n",
       "      <td>154</td>\n",
       "      <td>1930</td>\n",
       "      <td>1229</td>\n",
       "      <td>106</td>\n",
       "      <td>38</td>\n",
       "    </tr>\n",
       "    <tr>\n",
       "      <th>1</th>\n",
       "      <td>1303</td>\n",
       "      <td>333</td>\n",
       "      <td>32</td>\n",
       "      <td>1093</td>\n",
       "      <td>1933</td>\n",
       "      <td>35</td>\n",
       "      <td>38</td>\n",
       "    </tr>\n",
       "    <tr>\n",
       "      <th>2</th>\n",
       "      <td>1306</td>\n",
       "      <td>45</td>\n",
       "      <td>95</td>\n",
       "      <td>794</td>\n",
       "      <td>1582</td>\n",
       "      <td>73</td>\n",
       "      <td>29</td>\n",
       "    </tr>\n",
       "    <tr>\n",
       "      <th>3</th>\n",
       "      <td>1308</td>\n",
       "      <td>281</td>\n",
       "      <td>135</td>\n",
       "      <td>1859</td>\n",
       "      <td>1455</td>\n",
       "      <td>161</td>\n",
       "      <td>60</td>\n",
       "    </tr>\n",
       "    <tr>\n",
       "      <th>4</th>\n",
       "      <td>1312</td>\n",
       "      <td>36</td>\n",
       "      <td>120</td>\n",
       "      <td>195</td>\n",
       "      <td>2025</td>\n",
       "      <td>50</td>\n",
       "      <td>6</td>\n",
       "    </tr>\n",
       "  </tbody>\n",
       "</table>\n",
       "</div>"
      ],
      "text/plain": [
       "   calf_id  drinking_milk  grooming  lying  other  running  walking\n",
       "0     1302             51       154   1930   1229      106       38\n",
       "1     1303            333        32   1093   1933       35       38\n",
       "2     1306             45        95    794   1582       73       29\n",
       "3     1308            281       135   1859   1455      161       60\n",
       "4     1312             36       120    195   2025       50        6"
      ]
     },
     "execution_count": 28,
     "metadata": {},
     "output_type": "execute_result"
    }
   ],
   "source": [
    "df_data = []\n",
    "for calf_id, calf_data in window_data_six_labels.items():\n",
    "    df_sub_data = []\n",
    "    df_sub_data.append(calf_id)\n",
    "    for key in CONSIDERED_LABELS:\n",
    "        if key in calf_data.keys():\n",
    "            df_sub_data.append(len(calf_data[key]))\n",
    "        else:\n",
    "            df_sub_data.append(0)\n",
    "    df_data.append(df_sub_data)\n",
    "\n",
    "df_data_amounts = pd.DataFrame(df_data, columns=['calf_id', 'drinking_milk', 'grooming', 'lying', \n",
    "                                                 'other', 'running', 'walking']\n",
    "                              ).sort_values(by='calf_id').reset_index(drop=True)\n",
    "\n",
    "df_data_amounts.head()"
   ]
  },
  {
   "cell_type": "markdown",
   "id": "34c38305",
   "metadata": {},
   "source": [
    "# Saving data and information"
   ]
  },
  {
   "cell_type": "code",
   "execution_count": 29,
   "id": "f807d645",
   "metadata": {},
   "outputs": [],
   "source": [
    "# saving window data\n",
    "with open(windowed_dataset_save_path, 'wb') as f:\n",
    "    pickle.dump(window_data_six_labels, f)"
   ]
  },
  {
   "cell_type": "code",
   "execution_count": 31,
   "id": "7718088b",
   "metadata": {},
   "outputs": [],
   "source": [
    "# saving data amounts information\n",
    "df_data_amounts.to_csv(data_amounts_per_calf_save_path, index=False)"
   ]
  }
 ],
 "metadata": {
  "kernelspec": {
   "display_name": "py39",
   "language": "python",
   "name": "py39"
  },
  "language_info": {
   "codemirror_mode": {
    "name": "ipython",
    "version": 3
   },
   "file_extension": ".py",
   "mimetype": "text/x-python",
   "name": "python",
   "nbconvert_exporter": "python",
   "pygments_lexer": "ipython3",
   "version": "3.9.7"
  }
 },
 "nbformat": 4,
 "nbformat_minor": 5
}
