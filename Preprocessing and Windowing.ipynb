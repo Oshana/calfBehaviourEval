{
 "cells": [
  {
   "cell_type": "code",
   "execution_count": null,
   "id": "65f71b22",
   "metadata": {},
   "outputs": [],
   "source": [
    "import sys\n",
    "sys.path.append('./libraries')"
   ]
  },
  {
   "cell_type": "code",
   "execution_count": null,
   "id": "4cfb4f86",
   "metadata": {},
   "outputs": [],
   "source": [
    "import pandas as pd\n",
    "from libraries.windowing import return_windows\n",
    "import pickle\n",
    "from libraries.functions import calculate_magnitude, calculate_VeDBA, calculate_ODBA, calculate_pitch, calculate_roll"
   ]
  },
  {
   "cell_type": "markdown",
   "id": "ed37bd0f",
   "metadata": {},
   "source": [
    "# File Paths"
   ]
  },
  {
   "cell_type": "code",
   "execution_count": null,
   "id": "d3bcd6c1",
   "metadata": {},
   "outputs": [],
   "source": [
    "# dataset dehorning_annotated_original_dataset.csv is yet to be released \n",
    "dataset_path = './dataset/dehorning_annotated_original_dataset.csv'\n",
    "complete_dataset_save_path = './dataset/dehorning_annotated_complete_dataset.csv'\n",
    "windowed_dataset_save_path = './dataset/windowed_data_six_labels_dataset.pkl'\n",
    "data_amounts_per_calf_save_path = './dataset/information_datasets/data_amounts_per_calf_6_labels.csv'"
   ]
  },
  {
   "cell_type": "markdown",
   "id": "f66685ea",
   "metadata": {},
   "source": [
    "# Consts"
   ]
  },
  {
   "cell_type": "code",
   "execution_count": null,
   "id": "fc7a79d3",
   "metadata": {},
   "outputs": [],
   "source": [
    "CONSIDERED_MAIN_LABELS = sorted(['drinking_milk', 'grooming', 'lying', 'running', 'walking'])\n",
    "CONSIDERED_LABELS = sorted(['drinking_milk', 'grooming', 'lying', 'running', 'walking', 'other'])"
   ]
  },
  {
   "cell_type": "markdown",
   "id": "381f4080",
   "metadata": {},
   "source": [
    "# Reading the Dataset"
   ]
  },
  {
   "cell_type": "code",
   "execution_count": null,
   "id": "2f212aaa",
   "metadata": {},
   "outputs": [],
   "source": [
    "dataset_df = pd.read_csv(dataset_path)\n",
    "dataset_df.DateTime = pd.to_datetime(dataset_df.DateTime)\n",
    "dataset_df.head()"
   ]
  },
  {
   "cell_type": "markdown",
   "id": "359a0ab2",
   "metadata": {},
   "source": [
    "# Deriving Additional Time-series"
   ]
  },
  {
   "cell_type": "code",
   "execution_count": null,
   "id": "497beb6d",
   "metadata": {},
   "outputs": [],
   "source": [
    "%%time\n",
    "\n",
    "dataset_df['Amag'] = dataset_df.apply(lambda row: calculate_magnitude(row['Accx'], row['Accy'], row['Accz']), axis=1)\n",
    "dataset_df['VeDBA'] = dataset_df.apply(lambda row: calculate_VeDBA(row['Accx'], row['Accy'], row['Accz']), axis=1)\n",
    "dataset_df['ODBA'] = dataset_df.apply(lambda row: calculate_ODBA(row['Accx'], row['Accy'], row['Accz']), axis=1)\n",
    "dataset_df['pitch'] = dataset_df.apply(lambda row: calculate_pitch(row['Accx'], row['Accy'], row['Accz']), axis=1)\n",
    "dataset_df['roll'] = dataset_df.apply(lambda row: calculate_roll(row['Accx'], row['Accy'], row['Accz']), axis=1)"
   ]
  },
  {
   "cell_type": "code",
   "execution_count": null,
   "id": "3f485b0f",
   "metadata": {},
   "outputs": [],
   "source": [
    "dataset_df = dataset_df[['calf_id', 'DateTime', 'Accx', 'Accy', 'Accz', 'Amag', 'VeDBA', 'ODBA', 'pitch', 'roll', \n",
    "                         'behaviour', 'behaviour_seq_id']]\n",
    "dataset_df.head()"
   ]
  },
  {
   "cell_type": "markdown",
   "id": "e838fb6d",
   "metadata": {},
   "source": [
    "# Preprocessing - Stage 01"
   ]
  },
  {
   "cell_type": "code",
   "execution_count": null,
   "id": "f90b1f58",
   "metadata": {},
   "outputs": [],
   "source": [
    "# contains any nan values?\n",
    "dataset_df.isna().any().any()"
   ]
  },
  {
   "cell_type": "code",
   "execution_count": null,
   "id": "81599e52",
   "metadata": {},
   "outputs": [],
   "source": [
    "dataset_df.to_csv(complete_dataset_save_path, index=False)"
   ]
  },
  {
   "cell_type": "markdown",
   "id": "fdcf632c",
   "metadata": {},
   "source": [
    "# Windowing"
   ]
  },
  {
   "cell_type": "code",
   "execution_count": null,
   "id": "8e993abe",
   "metadata": {},
   "outputs": [],
   "source": [
    "window_duration = 3 \n",
    "data_frequency = 25\n",
    "min_window_size =  0.95\n",
    "overlap_size = 0.5\n",
    "datetime_column_name = 'DateTime'\n",
    "\n",
    "calf_id_column_name = 'calf_id'\n",
    "label_column_name = 'behaviour'\n",
    "block_number_column_name = 'behaviour_seq_id'\n",
    "\n",
    "# getting the unique calf ids\n",
    "calf_ids = dataset_df.calf_id.unique()"
   ]
  },
  {
   "cell_type": "code",
   "execution_count": null,
   "id": "1fcb7402",
   "metadata": {},
   "outputs": [],
   "source": [
    "%%time\n",
    "\n",
    "window_data = {}\n",
    "\n",
    "try:\n",
    "    for calf_id in calf_ids:\n",
    "        window_data[calf_id] = {}\n",
    "        calf_data_df = dataset_df[dataset_df[calf_id_column_name] == calf_id]\n",
    "        blocks = calf_data_df[block_number_column_name].unique()\n",
    "\n",
    "        for block in blocks:\n",
    "            block_df = calf_data_df[calf_data_df[block_number_column_name] == block]\n",
    "            \n",
    "            labels = block_df[label_column_name].unique()\n",
    "            if len(labels) > 1:\n",
    "                raise Exception('More than 1 label found per block! ' + str(calf_id) + ' : ' + str(block))\n",
    "            else:\n",
    "                label = labels[0]\n",
    "                        \n",
    "            # window the block data\n",
    "            windows = return_windows(block_df, \n",
    "                                     window_duration=window_duration, \n",
    "                                     data_frequency = data_frequency,\n",
    "                                     min_window_size = min_window_size,\n",
    "                                     overlap = overlap_size,\n",
    "                                     datetime_column_name = datetime_column_name\n",
    "                                     )\n",
    "\n",
    "            if len(windows) > 0:\n",
    "                if not label in window_data[calf_id]:\n",
    "                    window_data[calf_id][label] = []\n",
    "                window_data[calf_id][label].extend(windows)\n",
    "\n",
    "except Exception as e:\n",
    "    print(e)"
   ]
  },
  {
   "cell_type": "markdown",
   "id": "88b5ac0e",
   "metadata": {},
   "source": [
    "# Preprocessing - Stage 02"
   ]
  },
  {
   "cell_type": "markdown",
   "id": "1c687411",
   "metadata": {},
   "source": [
    "## Converting to Six Labels"
   ]
  },
  {
   "cell_type": "code",
   "execution_count": null,
   "id": "b576b702",
   "metadata": {},
   "outputs": [],
   "source": [
    "def change_keys(dictionary, CONSIDERED_MAIN_LABELS):\n",
    "    new_dict = {}\n",
    "    for key, value in dictionary.items():\n",
    "        if key in CONSIDERED_MAIN_LABELS:\n",
    "            new_dict[key] = value\n",
    "        else:\n",
    "            if not 'other' in new_dict:\n",
    "                new_dict['other'] = []\n",
    "            new_dict['other'].extend(value)\n",
    "    return new_dict\n",
    "\n",
    "window_data_six_labels = {}\n",
    "for calf in window_data:\n",
    "    window_data_six_labels[calf] = change_keys(window_data[calf], CONSIDERED_MAIN_LABELS)"
   ]
  },
  {
   "cell_type": "markdown",
   "id": "d359897c",
   "metadata": {},
   "source": [
    "## Total data amounts"
   ]
  },
  {
   "cell_type": "code",
   "execution_count": null,
   "id": "501c718b",
   "metadata": {},
   "outputs": [],
   "source": [
    "total_data_amounts = {}\n",
    "\n",
    "for calf in window_data_six_labels:\n",
    "    for key in window_data_six_labels[calf]:\n",
    "        if key not in total_data_amounts:\n",
    "            total_data_amounts[key] = 0\n",
    "        total_data_amounts[key] += len(window_data_six_labels[calf][key])\n",
    "        \n",
    "total_data_amounts"
   ]
  },
  {
   "cell_type": "markdown",
   "id": "07662ca0",
   "metadata": {},
   "source": [
    "## Data amounts for each calf"
   ]
  },
  {
   "cell_type": "code",
   "execution_count": null,
   "id": "7979b2b1",
   "metadata": {},
   "outputs": [],
   "source": [
    "df_data = []\n",
    "for calf_id, calf_data in window_data_six_labels.items():\n",
    "    df_sub_data = []\n",
    "    df_sub_data.append(calf_id)\n",
    "    for key in CONSIDERED_LABELS:\n",
    "        if key in calf_data.keys():\n",
    "            df_sub_data.append(len(calf_data[key]))\n",
    "        else:\n",
    "            df_sub_data.append(0)\n",
    "    df_data.append(df_sub_data)\n",
    "\n",
    "df_data_amounts = pd.DataFrame(df_data, columns=['calf_id', 'drinking_milk', 'grooming', 'lying', \n",
    "                                                 'other', 'running', 'walking']\n",
    "                              ).sort_values(by='calf_id').reset_index(drop=True)\n",
    "\n",
    "df_data_amounts.head()"
   ]
  },
  {
   "cell_type": "markdown",
   "id": "34c38305",
   "metadata": {},
   "source": [
    "# Saving data and information"
   ]
  },
  {
   "cell_type": "code",
   "execution_count": null,
   "id": "f807d645",
   "metadata": {},
   "outputs": [],
   "source": [
    "# saving window data\n",
    "with open(windowed_dataset_save_path, 'wb') as f:\n",
    "    pickle.dump(window_data_six_labels, f)"
   ]
  },
  {
   "cell_type": "code",
   "execution_count": null,
   "id": "7718088b",
   "metadata": {},
   "outputs": [],
   "source": [
    "# saving data amounts information\n",
    "df_data_amounts.to_csv(data_amounts_per_calf_save_path, index=False)"
   ]
  }
 ],
 "metadata": {
  "kernelspec": {
   "display_name": "py39",
   "language": "python",
   "name": "py39"
  },
  "language_info": {
   "codemirror_mode": {
    "name": "ipython",
    "version": 3
   },
   "file_extension": ".py",
   "mimetype": "text/x-python",
   "name": "python",
   "nbconvert_exporter": "python",
   "pygments_lexer": "ipython3",
   "version": "3.9.7"
  }
 },
 "nbformat": 4,
 "nbformat_minor": 5
}
